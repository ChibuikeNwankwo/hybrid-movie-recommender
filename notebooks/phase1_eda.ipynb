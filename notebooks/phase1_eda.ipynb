{
 "cells": [
  {
   "cell_type": "markdown",
   "id": "dc121c86",
   "metadata": {},
   "source": [
    "# Phase 1: Exploratory Data Analysis (Dataset 1)\n",
    "\n",
    "---\n",
    "## Table of Contents\n",
    "1. [Introduction](#1-introduction)\n",
    "2. [Data Loading](#2-loading-libraries-and-dataset)\n",
    "3. [Data Exploration](#3-data-exploration)\n",
    "   - 3.1 [Links Dataset](#31-links-dataset)\n",
    "   - 3.2 [Tags Dataset](#32-tags-dataset)\n",
    "   - 3.3 [Movies Dataset](#33-movies-dataset)\n",
    "   - 3.4 [Ratings Dataset](#34-ratings-dataset)\n",
    "\n",
    "---\n",
    "\n",
    "## 1. Introduction\n",
    "In this notebook, we perform an exploratory data analysis (EDA) on **Dataset 1**.  \n",
    "Goals of this notebook:\n",
    "- Understand the structure of the dataset.  \n",
    "- Check for missing values and inconsistencies.  \n",
    "- Perform exploratory statistics and visualizations.  \n",
    "- Extract insights that will guide preprocessing and modeling.  \n"
   ]
  },
  {
   "cell_type": "markdown",
   "id": "b5a53e7e",
   "metadata": {},
   "source": [
    "## 2. Loading Libraries and Dataset"
   ]
  },
  {
   "cell_type": "code",
   "execution_count": 1,
   "id": "d87bb425",
   "metadata": {},
   "outputs": [],
   "source": [
    "# Import necessary libraries\n",
    "import pandas as pd\n",
    "import matplotlib.pyplot as plt\n",
    "import seaborn as sns\n",
    "import re\n",
    "import pickle\n",
    "from collections import Counter\n",
    "\n"
   ]
  },
  {
   "cell_type": "code",
   "execution_count": 2,
   "id": "0b1ef9bd",
   "metadata": {},
   "outputs": [],
   "source": [
    "# Loading the datasets\n",
    "links_df = pd.read_csv('../data/raw/dataset1/links.csv')\n",
    "movies_df = pd.read_csv('../data/raw/dataset1/movies.csv')\n",
    "ratings_df = pd.read_csv('../data/raw/dataset1/ratings.csv')\n",
    "tags_df = pd.read_csv('../data/raw/dataset1/tags.csv')"
   ]
  },
  {
   "cell_type": "markdown",
   "id": "5bcb366d",
   "metadata": {},
   "source": [
    "##### 3. Data Exploration\n",
    "\n",
    "##### **3.1 LINKS DATASET**"
   ]
  },
  {
   "cell_type": "code",
   "execution_count": 3,
   "id": "1cf22d2e",
   "metadata": {},
   "outputs": [
    {
     "data": {
      "text/html": [
       "<div>\n",
       "<style scoped>\n",
       "    .dataframe tbody tr th:only-of-type {\n",
       "        vertical-align: middle;\n",
       "    }\n",
       "\n",
       "    .dataframe tbody tr th {\n",
       "        vertical-align: top;\n",
       "    }\n",
       "\n",
       "    .dataframe thead th {\n",
       "        text-align: right;\n",
       "    }\n",
       "</style>\n",
       "<table border=\"1\" class=\"dataframe\">\n",
       "  <thead>\n",
       "    <tr style=\"text-align: right;\">\n",
       "      <th></th>\n",
       "      <th>movieId</th>\n",
       "      <th>imdbId</th>\n",
       "      <th>tmdbId</th>\n",
       "    </tr>\n",
       "  </thead>\n",
       "  <tbody>\n",
       "    <tr>\n",
       "      <th>0</th>\n",
       "      <td>1</td>\n",
       "      <td>114709</td>\n",
       "      <td>862.0</td>\n",
       "    </tr>\n",
       "    <tr>\n",
       "      <th>1</th>\n",
       "      <td>2</td>\n",
       "      <td>113497</td>\n",
       "      <td>8844.0</td>\n",
       "    </tr>\n",
       "    <tr>\n",
       "      <th>2</th>\n",
       "      <td>3</td>\n",
       "      <td>113228</td>\n",
       "      <td>15602.0</td>\n",
       "    </tr>\n",
       "    <tr>\n",
       "      <th>3</th>\n",
       "      <td>4</td>\n",
       "      <td>114885</td>\n",
       "      <td>31357.0</td>\n",
       "    </tr>\n",
       "    <tr>\n",
       "      <th>4</th>\n",
       "      <td>5</td>\n",
       "      <td>113041</td>\n",
       "      <td>11862.0</td>\n",
       "    </tr>\n",
       "  </tbody>\n",
       "</table>\n",
       "</div>"
      ],
      "text/plain": [
       "   movieId  imdbId   tmdbId\n",
       "0        1  114709    862.0\n",
       "1        2  113497   8844.0\n",
       "2        3  113228  15602.0\n",
       "3        4  114885  31357.0\n",
       "4        5  113041  11862.0"
      ]
     },
     "execution_count": 3,
     "metadata": {},
     "output_type": "execute_result"
    }
   ],
   "source": [
    "links_df.head()"
   ]
  },
  {
   "cell_type": "code",
   "execution_count": 4,
   "id": "3b23318f",
   "metadata": {},
   "outputs": [
    {
     "name": "stdout",
     "output_type": "stream",
     "text": [
      "<class 'pandas.core.frame.DataFrame'>\n",
      "RangeIndex: 9742 entries, 0 to 9741\n",
      "Data columns (total 3 columns):\n",
      " #   Column   Non-Null Count  Dtype  \n",
      "---  ------   --------------  -----  \n",
      " 0   movieId  9742 non-null   int64  \n",
      " 1   imdbId   9742 non-null   int64  \n",
      " 2   tmdbId   9734 non-null   float64\n",
      "dtypes: float64(1), int64(2)\n",
      "memory usage: 228.5 KB\n"
     ]
    }
   ],
   "source": [
    "links_df.info()"
   ]
  },
  {
   "cell_type": "markdown",
   "id": "af7d9248",
   "metadata": {},
   "source": [
    "- Dataset contains 9734 movie IDs from TMDb and 9,742 movie IDs from IMDb and MovieLens → functions as a mapping/reference table.  \n",
    "- No cleaning required since it only links IDs across sources.  \n",
    "- Primary use: joining/merging with the TMDB dataset for metadata enrichment.  \n"
   ]
  },
  {
   "cell_type": "markdown",
   "id": "976e3fa4",
   "metadata": {},
   "source": [
    "##### **3.2 TAGS DATASET**"
   ]
  },
  {
   "cell_type": "code",
   "execution_count": 5,
   "id": "0225196a",
   "metadata": {},
   "outputs": [
    {
     "name": "stdout",
     "output_type": "stream",
     "text": [
      "<class 'pandas.core.frame.DataFrame'>\n",
      "RangeIndex: 3683 entries, 0 to 3682\n",
      "Data columns (total 4 columns):\n",
      " #   Column     Non-Null Count  Dtype \n",
      "---  ------     --------------  ----- \n",
      " 0   userId     3683 non-null   int64 \n",
      " 1   movieId    3683 non-null   int64 \n",
      " 2   tag        3683 non-null   object\n",
      " 3   timestamp  3683 non-null   int64 \n",
      "dtypes: int64(3), object(1)\n",
      "memory usage: 115.2+ KB\n"
     ]
    }
   ],
   "source": [
    "# Getting the info of the dataset\n",
    "tags_df.info()"
   ]
  },
  {
   "cell_type": "code",
   "execution_count": 6,
   "id": "32c4a5a0",
   "metadata": {},
   "outputs": [
    {
     "data": {
      "text/html": [
       "<div>\n",
       "<style scoped>\n",
       "    .dataframe tbody tr th:only-of-type {\n",
       "        vertical-align: middle;\n",
       "    }\n",
       "\n",
       "    .dataframe tbody tr th {\n",
       "        vertical-align: top;\n",
       "    }\n",
       "\n",
       "    .dataframe thead th {\n",
       "        text-align: right;\n",
       "    }\n",
       "</style>\n",
       "<table border=\"1\" class=\"dataframe\">\n",
       "  <thead>\n",
       "    <tr style=\"text-align: right;\">\n",
       "      <th></th>\n",
       "      <th>userId</th>\n",
       "      <th>movieId</th>\n",
       "      <th>tag</th>\n",
       "      <th>timestamp</th>\n",
       "    </tr>\n",
       "  </thead>\n",
       "  <tbody>\n",
       "    <tr>\n",
       "      <th>2599</th>\n",
       "      <td>477</td>\n",
       "      <td>4878</td>\n",
       "      <td>dreamlike</td>\n",
       "      <td>2009-05-16 17:21:02</td>\n",
       "    </tr>\n",
       "    <tr>\n",
       "      <th>3649</th>\n",
       "      <td>599</td>\n",
       "      <td>2959</td>\n",
       "      <td>narrated</td>\n",
       "      <td>2017-06-26 06:02:14</td>\n",
       "    </tr>\n",
       "    <tr>\n",
       "      <th>1367</th>\n",
       "      <td>474</td>\n",
       "      <td>1246</td>\n",
       "      <td>High School</td>\n",
       "      <td>2006-01-13 22:28:54</td>\n",
       "    </tr>\n",
       "    <tr>\n",
       "      <th>1916</th>\n",
       "      <td>474</td>\n",
       "      <td>4447</td>\n",
       "      <td>lawyers</td>\n",
       "      <td>2006-01-23 16:11:14</td>\n",
       "    </tr>\n",
       "    <tr>\n",
       "      <th>1050</th>\n",
       "      <td>474</td>\n",
       "      <td>237</td>\n",
       "      <td>France</td>\n",
       "      <td>2006-01-24 21:18:48</td>\n",
       "    </tr>\n",
       "  </tbody>\n",
       "</table>\n",
       "</div>"
      ],
      "text/plain": [
       "      userId  movieId          tag           timestamp\n",
       "2599     477     4878    dreamlike 2009-05-16 17:21:02\n",
       "3649     599     2959     narrated 2017-06-26 06:02:14\n",
       "1367     474     1246  High School 2006-01-13 22:28:54\n",
       "1916     474     4447      lawyers 2006-01-23 16:11:14\n",
       "1050     474      237       France 2006-01-24 21:18:48"
      ]
     },
     "execution_count": 6,
     "metadata": {},
     "output_type": "execute_result"
    }
   ],
   "source": [
    "# Converting the 'timestamp' column to datetime format\n",
    "tags_df['timestamp'] = pd.to_datetime(tags_df['timestamp'], unit='s')\n",
    "# Displaying random rows from the tags dataset\n",
    "tags_df.sample(5)"
   ]
  },
  {
   "cell_type": "code",
   "execution_count": 7,
   "id": "0e5a452a",
   "metadata": {},
   "outputs": [],
   "source": [
    "# Converting all tags to lowercase for consistency\n",
    "tags_df['tag'] = tags_df['tag'].str.lower().str.strip()\n",
    "\n",
    "# Join all tags for a movie into a list\n",
    "tags_agg = tags_df.groupby('movieId')['tag'].apply(lambda x: list(set(x))).reset_index()\n",
    "tags_agg.columns = ['movieId', 'tags_list']"
   ]
  },
  {
   "cell_type": "code",
   "execution_count": 8,
   "id": "f3677097",
   "metadata": {},
   "outputs": [
    {
     "name": "stdout",
     "output_type": "stream",
     "text": [
      "<class 'pandas.core.frame.DataFrame'>\n",
      "RangeIndex: 1572 entries, 0 to 1571\n",
      "Data columns (total 2 columns):\n",
      " #   Column     Non-Null Count  Dtype \n",
      "---  ------     --------------  ----- \n",
      " 0   movieId    1572 non-null   int64 \n",
      " 1   tags_list  1572 non-null   object\n",
      "dtypes: int64(1), object(1)\n",
      "memory usage: 24.7+ KB\n"
     ]
    }
   ],
   "source": [
    "tags_agg.info()\n",
    "\n",
    "# Saving the aggregated tags to a CSV file\n",
    "tags_agg.to_csv('../data/processed/dataset1/tags_cleaned.csv', index=False)"
   ]
  },
  {
   "cell_type": "markdown",
   "id": "42e294d1",
   "metadata": {},
   "source": [
    "- Original tags dataset: 3,683 rows → after grouping, reduced to 1,572 unique movies with tag lists.  \n",
    "- `userId` dropped correctly since focus is on movie-level metadata, not individual tagging behavior.  \n",
    "- `tags_list` now provides richer textual descriptors per movie → useful for content-based filtering.  \n",
    "- Coverage: only 1,572 movies tagged → less than half of full dataset, may introduce sparsity in recommendations.  \n"
   ]
  },
  {
   "cell_type": "code",
   "execution_count": 9,
   "id": "e700d2e8",
   "metadata": {},
   "outputs": [
    {
     "data": {
      "image/png": "[encoded data removed]",
      "text/plain": [
       "<Figure size 1000x500 with 1 Axes>"
      ]
     },
     "metadata": {},
     "output_type": "display_data"
    }
   ],
   "source": [
    "# Count top tags from tags_df\n",
    "tag_counter = Counter(t for tag_list in tags_agg['tags_list'] for t in tag_list)\n",
    "top_tags = pd.DataFrame(tag_counter.most_common(20), columns=['Tag', 'Count'])\n",
    "\n",
    "# Plot top tags\n",
    "plt.figure(figsize=(10, 5))\n",
    "sns.barplot(data=top_tags, y='Tag', x='Count')\n",
    "plt.title(\"Top 20 Tags\")\n",
    "plt.show()"
   ]
  },
  {
   "cell_type": "markdown",
   "id": "4e61ed6b",
   "metadata": {},
   "source": [
    "- Top tag is **\"in netflix queue\" (131)** → platform-specific, may add noise vs. content-related tags.  \n",
    "- Content-descriptive tags (e.g., *atmospheric, quirky, superhero, suspense, dark comedy*) appear with lower counts (~16–37).  \n",
    "- Distribution is highly skewed → heavy reliance on few frequent tags.  \n",
    "- Many tags reflect subjective impressions (*funny, thought-provoking, visually appealing*) → useful for diversity in recommendations.  \n",
    "- Filtering out platform-specific or non-content tags will be put into consideration."
   ]
  },
  {
   "cell_type": "markdown",
   "id": "c1c65557",
   "metadata": {},
   "source": [
    "##### **3.3 MOVIES DATASET**\n"
   ]
  },
  {
   "cell_type": "code",
   "execution_count": 10,
   "id": "c728b979",
   "metadata": {},
   "outputs": [
    {
     "name": "stdout",
     "output_type": "stream",
     "text": [
      "<class 'pandas.core.frame.DataFrame'>\n",
      "RangeIndex: 9742 entries, 0 to 9741\n",
      "Data columns (total 3 columns):\n",
      " #   Column   Non-Null Count  Dtype \n",
      "---  ------   --------------  ----- \n",
      " 0   movieId  9742 non-null   int64 \n",
      " 1   title    9742 non-null   object\n",
      " 2   genres   9742 non-null   object\n",
      "dtypes: int64(1), object(2)\n",
      "memory usage: 228.5+ KB\n"
     ]
    }
   ],
   "source": [
    "# getting the info of the dataset\n",
    "movies_df.info()"
   ]
  },
  {
   "cell_type": "code",
   "execution_count": 11,
   "id": "04938c3a",
   "metadata": {},
   "outputs": [
    {
     "data": {
      "text/html": [
       "<div>\n",
       "<style scoped>\n",
       "    .dataframe tbody tr th:only-of-type {\n",
       "        vertical-align: middle;\n",
       "    }\n",
       "\n",
       "    .dataframe tbody tr th {\n",
       "        vertical-align: top;\n",
       "    }\n",
       "\n",
       "    .dataframe thead th {\n",
       "        text-align: right;\n",
       "    }\n",
       "</style>\n",
       "<table border=\"1\" class=\"dataframe\">\n",
       "  <thead>\n",
       "    <tr style=\"text-align: right;\">\n",
       "      <th></th>\n",
       "      <th>movieId</th>\n",
       "      <th>title</th>\n",
       "      <th>genres</th>\n",
       "    </tr>\n",
       "  </thead>\n",
       "  <tbody>\n",
       "    <tr>\n",
       "      <th>8161</th>\n",
       "      <td>102590</td>\n",
       "      <td>Darkon (2006)</td>\n",
       "      <td>Documentary|Fantasy</td>\n",
       "    </tr>\n",
       "    <tr>\n",
       "      <th>3247</th>\n",
       "      <td>4389</td>\n",
       "      <td>Lost and Delirious (2001)</td>\n",
       "      <td>Drama</td>\n",
       "    </tr>\n",
       "    <tr>\n",
       "      <th>5536</th>\n",
       "      <td>26603</td>\n",
       "      <td>Prince of Darkness (1987)</td>\n",
       "      <td>Fantasy|Horror|Sci-Fi|Thriller</td>\n",
       "    </tr>\n",
       "    <tr>\n",
       "      <th>7000</th>\n",
       "      <td>67665</td>\n",
       "      <td>Anvil! The Story of Anvil (2008)</td>\n",
       "      <td>Documentary|Musical</td>\n",
       "    </tr>\n",
       "    <tr>\n",
       "      <th>1730</th>\n",
       "      <td>2324</td>\n",
       "      <td>Life Is Beautiful (La Vita è bella) (1997)</td>\n",
       "      <td>Comedy|Drama|Romance|War</td>\n",
       "    </tr>\n",
       "  </tbody>\n",
       "</table>\n",
       "</div>"
      ],
      "text/plain": [
       "      movieId                                       title  \\\n",
       "8161   102590                               Darkon (2006)   \n",
       "3247     4389                   Lost and Delirious (2001)   \n",
       "5536    26603                   Prince of Darkness (1987)   \n",
       "7000    67665            Anvil! The Story of Anvil (2008)   \n",
       "1730     2324  Life Is Beautiful (La Vita è bella) (1997)   \n",
       "\n",
       "                              genres  \n",
       "8161             Documentary|Fantasy  \n",
       "3247                           Drama  \n",
       "5536  Fantasy|Horror|Sci-Fi|Thriller  \n",
       "7000             Documentary|Musical  \n",
       "1730        Comedy|Drama|Romance|War  "
      ]
     },
     "execution_count": 11,
     "metadata": {},
     "output_type": "execute_result"
    }
   ],
   "source": [
    "# Getting random rows of the dataset\n",
    "movies_df.sample(5)"
   ]
  },
  {
   "cell_type": "markdown",
   "id": "048dae6f",
   "metadata": {},
   "source": [
    "This dataset needs to be cleaned so I'll;\n",
    "\n",
    "- Extract `release_year` from `title` using regex.  \n",
    "- Split `genres` column on `|` to create `genres_list` for multi-label analysis.  \n",
    "- Removed movies with missing or invalid `title/genres` entries.  \n",
    "- Preserved `movieId` as key identifier for linking with other datasets.  \n"
   ]
  },
  {
   "cell_type": "code",
   "execution_count": 12,
   "id": "dd67c231",
   "metadata": {},
   "outputs": [],
   "source": [
    "# Extracting the year from the title and cleaning the title\n",
    "movies_df['release_year'] = movies_df['title'].str.extract(r'\\((\\d{4})\\)')\n",
    "movies_df['title'] = movies_df['title'].str[:-6]"
   ]
  },
  {
   "cell_type": "code",
   "execution_count": 13,
   "id": "f88e21ce",
   "metadata": {},
   "outputs": [],
   "source": [
    "# Function to correct titles\n",
    "def fix_title(title):\n",
    "    match = re.match(r\"^(.*),\\s(The|An|A)$\", title)\n",
    "    if match:\n",
    "        return f\"{match.group(2)} {match.group(1)}\"\n",
    "    return title\n",
    "\n",
    "# Apply to the column\n",
    "movies_df['title'] = movies_df['title'].apply(fix_title)"
   ]
  },
  {
   "cell_type": "code",
   "execution_count": 14,
   "id": "1039770c",
   "metadata": {},
   "outputs": [],
   "source": [
    "# Function to fix titles\n",
    "def fix_title(title):\n",
    "    title = title.strip()\n",
    "    # Separate parenthesis part\n",
    "    paren_part = ''\n",
    "    paren_match = re.search(r\"\\s*(\\([^)]*\\))\\s*$\", title)\n",
    "    if paren_match:\n",
    "        paren_part = paren_match.group(1)\n",
    "        title = title[:paren_match.start()].strip()\n",
    "    \n",
    "    # Match titles like \"Black, The\" or \"Good, the Bad and the Ugly, The\"\n",
    "    match = re.match(r\"^(.*),\\s(The|An|A)$\", title)\n",
    "    if match:\n",
    "        new_title = f\"{match.group(2)} {match.group(1)}\"\n",
    "        return f\"{new_title} {paren_part}\".strip()\n",
    "    \n",
    "    # No match — return original title\n",
    "    return f\"{title} {paren_part}\".strip()\n",
    "\n",
    "# 2. Apply to a few entries\n",
    "movies_df['title'] = movies_df['title'].apply(fix_title)\n"
   ]
  },
  {
   "cell_type": "code",
   "execution_count": 15,
   "id": "74e4b1ea",
   "metadata": {},
   "outputs": [
    {
     "data": {
      "text/html": [
       "<div>\n",
       "<style scoped>\n",
       "    .dataframe tbody tr th:only-of-type {\n",
       "        vertical-align: middle;\n",
       "    }\n",
       "\n",
       "    .dataframe tbody tr th {\n",
       "        vertical-align: top;\n",
       "    }\n",
       "\n",
       "    .dataframe thead th {\n",
       "        text-align: right;\n",
       "    }\n",
       "</style>\n",
       "<table border=\"1\" class=\"dataframe\">\n",
       "  <thead>\n",
       "    <tr style=\"text-align: right;\">\n",
       "      <th></th>\n",
       "      <th>Genre</th>\n",
       "      <th>Count</th>\n",
       "    </tr>\n",
       "  </thead>\n",
       "  <tbody>\n",
       "    <tr>\n",
       "      <th>0</th>\n",
       "      <td>Drama</td>\n",
       "      <td>4361</td>\n",
       "    </tr>\n",
       "    <tr>\n",
       "      <th>1</th>\n",
       "      <td>Comedy</td>\n",
       "      <td>3756</td>\n",
       "    </tr>\n",
       "    <tr>\n",
       "      <th>2</th>\n",
       "      <td>Thriller</td>\n",
       "      <td>1894</td>\n",
       "    </tr>\n",
       "    <tr>\n",
       "      <th>3</th>\n",
       "      <td>Action</td>\n",
       "      <td>1828</td>\n",
       "    </tr>\n",
       "    <tr>\n",
       "      <th>4</th>\n",
       "      <td>Romance</td>\n",
       "      <td>1596</td>\n",
       "    </tr>\n",
       "    <tr>\n",
       "      <th>5</th>\n",
       "      <td>Adventure</td>\n",
       "      <td>1263</td>\n",
       "    </tr>\n",
       "    <tr>\n",
       "      <th>6</th>\n",
       "      <td>Crime</td>\n",
       "      <td>1199</td>\n",
       "    </tr>\n",
       "    <tr>\n",
       "      <th>7</th>\n",
       "      <td>Sci-Fi</td>\n",
       "      <td>980</td>\n",
       "    </tr>\n",
       "    <tr>\n",
       "      <th>8</th>\n",
       "      <td>Horror</td>\n",
       "      <td>978</td>\n",
       "    </tr>\n",
       "    <tr>\n",
       "      <th>9</th>\n",
       "      <td>Fantasy</td>\n",
       "      <td>779</td>\n",
       "    </tr>\n",
       "    <tr>\n",
       "      <th>10</th>\n",
       "      <td>Children</td>\n",
       "      <td>664</td>\n",
       "    </tr>\n",
       "    <tr>\n",
       "      <th>11</th>\n",
       "      <td>Animation</td>\n",
       "      <td>611</td>\n",
       "    </tr>\n",
       "    <tr>\n",
       "      <th>12</th>\n",
       "      <td>Mystery</td>\n",
       "      <td>573</td>\n",
       "    </tr>\n",
       "    <tr>\n",
       "      <th>13</th>\n",
       "      <td>Documentary</td>\n",
       "      <td>440</td>\n",
       "    </tr>\n",
       "    <tr>\n",
       "      <th>14</th>\n",
       "      <td>War</td>\n",
       "      <td>382</td>\n",
       "    </tr>\n",
       "    <tr>\n",
       "      <th>15</th>\n",
       "      <td>Musical</td>\n",
       "      <td>334</td>\n",
       "    </tr>\n",
       "    <tr>\n",
       "      <th>16</th>\n",
       "      <td>Western</td>\n",
       "      <td>167</td>\n",
       "    </tr>\n",
       "    <tr>\n",
       "      <th>17</th>\n",
       "      <td>IMAX</td>\n",
       "      <td>158</td>\n",
       "    </tr>\n",
       "    <tr>\n",
       "      <th>18</th>\n",
       "      <td>Film-Noir</td>\n",
       "      <td>87</td>\n",
       "    </tr>\n",
       "    <tr>\n",
       "      <th>19</th>\n",
       "      <td>(no genres listed)</td>\n",
       "      <td>34</td>\n",
       "    </tr>\n",
       "  </tbody>\n",
       "</table>\n",
       "</div>"
      ],
      "text/plain": [
       "                 Genre  Count\n",
       "0                Drama   4361\n",
       "1               Comedy   3756\n",
       "2             Thriller   1894\n",
       "3               Action   1828\n",
       "4              Romance   1596\n",
       "5            Adventure   1263\n",
       "6                Crime   1199\n",
       "7               Sci-Fi    980\n",
       "8               Horror    978\n",
       "9              Fantasy    779\n",
       "10            Children    664\n",
       "11           Animation    611\n",
       "12             Mystery    573\n",
       "13         Documentary    440\n",
       "14                 War    382\n",
       "15             Musical    334\n",
       "16             Western    167\n",
       "17                IMAX    158\n",
       "18           Film-Noir     87\n",
       "19  (no genres listed)     34"
      ]
     },
     "execution_count": 15,
     "metadata": {},
     "output_type": "execute_result"
    }
   ],
   "source": [
    "# Claeaning the genre column and converting it to a list\n",
    "movies_df['genres_list'] = movies_df['genres'].apply(lambda x: x.split('|'))\n",
    "# Counting the occurences of each genre\n",
    "genre_counter = Counter(g for genre_list in movies_df['genres_list'] for g in genre_list)\n",
    "genre_counts = pd.DataFrame(genre_counter.most_common(), columns=['Genre', 'Count'])\n",
    "unique_genre = set(genre_counts['Genre'].unique()) # gets a list of all unique genres\n",
    "# save as a pickle file\n",
    "with open('../src/artifacts/unique_genre.pkl', 'wb') as f:\n",
    "    pickle.dump(unique_genre, f)\n",
    "genre_counts"
   ]
  },
  {
   "cell_type": "markdown",
   "id": "58f3d7fa",
   "metadata": {},
   "source": [
    "- Genre distribution is highly imbalanced → **Drama (4,361)** and **Comedy (3,756)** dominate.  \n",
    "- Mid-range genres: *Thriller, Action, Romance* (1,500–1,800 range).  \n",
    "- Niche/rare genres: *Film-Noir (87), IMAX (158), Western (167)* → may limit recommendation diversity.  \n",
    "- 34 movies have `(no genres listed)` → candidates for exclusion or tagging via external metadata.  \n"
   ]
  },
  {
   "cell_type": "code",
   "execution_count": 16,
   "id": "edb8a3bd",
   "metadata": {},
   "outputs": [
    {
     "name": "stdout",
     "output_type": "stream",
     "text": [
      "<class 'pandas.core.frame.DataFrame'>\n",
      "Index: 9708 entries, 0 to 9741\n",
      "Data columns (total 5 columns):\n",
      " #   Column        Non-Null Count  Dtype \n",
      "---  ------        --------------  ----- \n",
      " 0   movieId       9708 non-null   int64 \n",
      " 1   title         9708 non-null   object\n",
      " 2   genres        9708 non-null   object\n",
      " 3   release_year  9704 non-null   object\n",
      " 4   genres_list   9708 non-null   object\n",
      "dtypes: int64(1), object(4)\n",
      "memory usage: 455.1+ KB\n"
     ]
    }
   ],
   "source": [
    "# Remove rows with empty genre list\n",
    "movies_df = movies_df[movies_df['genres_list'].apply(lambda x: len(x) > 0 and '(no genres listed)' not in x)]\n",
    "movies_df.info()\n",
    "\n",
    "# saving the cleaned dataset\n",
    "movies_df.to_csv('../data/processed/dataset1/movies_cleaned.csv', index=False)"
   ]
  },
  {
   "cell_type": "markdown",
   "id": "3a68945f",
   "metadata": {},
   "source": [
    "- Cleaned dataset reduced from 9,742 → 9,708 movies (34 dropped, due to genres).  \n",
    "- Added `release_year` column → 4 missing values remain, may need imputation or exclusion.  \n",
    "- `genres_list` created for easier multi-label processing (better for encoding/similarity).  \n",
    "- Overall structure now richer and more analysis-ready, while maintaining most of the data coverage.  \n"
   ]
  },
  {
   "cell_type": "code",
   "execution_count": 17,
   "id": "308a8706",
   "metadata": {},
   "outputs": [
    {
     "data": {
      "image/png": "[encoded data removed]",
      "text/plain": [
       "<Figure size 1200x400 with 1 Axes>"
      ]
     },
     "metadata": {},
     "output_type": "display_data"
    }
   ],
   "source": [
    "# Plot movie counts by year\n",
    "year_counts = movies_df['release_year'].value_counts().sort_index()\n",
    "plt.figure(figsize=(12, 4))\n",
    "year_counts.plot()\n",
    "plt.title(\"Movies by Release Year\")\n",
    "plt.xlabel(\"Year\")\n",
    "plt.ylabel(\"Count\")\n",
    "plt.grid(True)\n",
    "plt.show()"
   ]
  },
  {
   "cell_type": "markdown",
   "id": "0cce25ea",
   "metadata": {},
   "source": [
    "- Dataset spans 1902–2018 → wide historical coverage.  \n",
    "- Steady growth until ~1990, then sharp increase in yearly movie counts.  \n",
    "- Post-1990: consistently ≥150 movies/year, peaking at 300+ in 2002.  \n",
    "- Bulk of data concentrated in modern era (1990–2018) → recommendations likely biased toward recent films.  \n"
   ]
  },
  {
   "cell_type": "markdown",
   "id": "ed6ad95e",
   "metadata": {},
   "source": [
    "##### **3.4 RATINGS DATASET**\n"
   ]
  },
  {
   "cell_type": "code",
   "execution_count": 18,
   "id": "756ec470",
   "metadata": {},
   "outputs": [
    {
     "name": "stdout",
     "output_type": "stream",
     "text": [
      "<class 'pandas.core.frame.DataFrame'>\n",
      "RangeIndex: 100836 entries, 0 to 100835\n",
      "Data columns (total 4 columns):\n",
      " #   Column     Non-Null Count   Dtype  \n",
      "---  ------     --------------   -----  \n",
      " 0   userId     100836 non-null  int64  \n",
      " 1   movieId    100836 non-null  int64  \n",
      " 2   rating     100836 non-null  float64\n",
      " 3   timestamp  100836 non-null  int64  \n",
      "dtypes: float64(1), int64(3)\n",
      "memory usage: 3.1 MB\n"
     ]
    }
   ],
   "source": [
    "# Getting the info of the dataset\n",
    "ratings_df.info()"
   ]
  },
  {
   "cell_type": "code",
   "execution_count": 19,
   "id": "0a8cd3aa",
   "metadata": {},
   "outputs": [
    {
     "data": {
      "text/html": [
       "<div>\n",
       "<style scoped>\n",
       "    .dataframe tbody tr th:only-of-type {\n",
       "        vertical-align: middle;\n",
       "    }\n",
       "\n",
       "    .dataframe tbody tr th {\n",
       "        vertical-align: top;\n",
       "    }\n",
       "\n",
       "    .dataframe thead th {\n",
       "        text-align: right;\n",
       "    }\n",
       "</style>\n",
       "<table border=\"1\" class=\"dataframe\">\n",
       "  <thead>\n",
       "    <tr style=\"text-align: right;\">\n",
       "      <th></th>\n",
       "      <th>userId</th>\n",
       "      <th>movieId</th>\n",
       "      <th>rating</th>\n",
       "      <th>timestamp</th>\n",
       "    </tr>\n",
       "  </thead>\n",
       "  <tbody>\n",
       "    <tr>\n",
       "      <th>25404</th>\n",
       "      <td>177</td>\n",
       "      <td>6958</td>\n",
       "      <td>2.5</td>\n",
       "      <td>2015-07-02 11:49:11</td>\n",
       "    </tr>\n",
       "    <tr>\n",
       "      <th>69335</th>\n",
       "      <td>448</td>\n",
       "      <td>4339</td>\n",
       "      <td>4.0</td>\n",
       "      <td>2002-04-24 16:24:35</td>\n",
       "    </tr>\n",
       "    <tr>\n",
       "      <th>88622</th>\n",
       "      <td>572</td>\n",
       "      <td>1952</td>\n",
       "      <td>5.0</td>\n",
       "      <td>1999-12-22 19:07:56</td>\n",
       "    </tr>\n",
       "    <tr>\n",
       "      <th>25655</th>\n",
       "      <td>177</td>\n",
       "      <td>69122</td>\n",
       "      <td>4.0</td>\n",
       "      <td>2015-06-28 23:09:21</td>\n",
       "    </tr>\n",
       "    <tr>\n",
       "      <th>65510</th>\n",
       "      <td>420</td>\n",
       "      <td>3462</td>\n",
       "      <td>3.5</td>\n",
       "      <td>2008-08-06 16:58:16</td>\n",
       "    </tr>\n",
       "  </tbody>\n",
       "</table>\n",
       "</div>"
      ],
      "text/plain": [
       "       userId  movieId  rating           timestamp\n",
       "25404     177     6958     2.5 2015-07-02 11:49:11\n",
       "69335     448     4339     4.0 2002-04-24 16:24:35\n",
       "88622     572     1952     5.0 1999-12-22 19:07:56\n",
       "25655     177    69122     4.0 2015-06-28 23:09:21\n",
       "65510     420     3462     3.5 2008-08-06 16:58:16"
      ]
     },
     "execution_count": 19,
     "metadata": {},
     "output_type": "execute_result"
    }
   ],
   "source": [
    "ratings_df['timestamp'] = pd.to_datetime(ratings_df['timestamp'], unit='s')\n",
    "ratings_df.sample(5)"
   ]
  },
  {
   "cell_type": "code",
   "execution_count": 20,
   "id": "19156789",
   "metadata": {},
   "outputs": [
    {
     "data": {
      "text/html": [
       "<div>\n",
       "<style scoped>\n",
       "    .dataframe tbody tr th:only-of-type {\n",
       "        vertical-align: middle;\n",
       "    }\n",
       "\n",
       "    .dataframe tbody tr th {\n",
       "        vertical-align: top;\n",
       "    }\n",
       "\n",
       "    .dataframe thead th {\n",
       "        text-align: right;\n",
       "    }\n",
       "</style>\n",
       "<table border=\"1\" class=\"dataframe\">\n",
       "  <thead>\n",
       "    <tr style=\"text-align: right;\">\n",
       "      <th></th>\n",
       "      <th>userId</th>\n",
       "      <th>movieId</th>\n",
       "      <th>rating</th>\n",
       "      <th>timestamp</th>\n",
       "    </tr>\n",
       "  </thead>\n",
       "  <tbody>\n",
       "    <tr>\n",
       "      <th>count</th>\n",
       "      <td>100836.000000</td>\n",
       "      <td>100836.000000</td>\n",
       "      <td>100836.000000</td>\n",
       "      <td>100836</td>\n",
       "    </tr>\n",
       "    <tr>\n",
       "      <th>mean</th>\n",
       "      <td>326.127564</td>\n",
       "      <td>19435.295718</td>\n",
       "      <td>3.501557</td>\n",
       "      <td>2008-03-19 17:01:27.368469248</td>\n",
       "    </tr>\n",
       "    <tr>\n",
       "      <th>min</th>\n",
       "      <td>1.000000</td>\n",
       "      <td>1.000000</td>\n",
       "      <td>0.500000</td>\n",
       "      <td>1996-03-29 18:36:55</td>\n",
       "    </tr>\n",
       "    <tr>\n",
       "      <th>25%</th>\n",
       "      <td>177.000000</td>\n",
       "      <td>1199.000000</td>\n",
       "      <td>3.000000</td>\n",
       "      <td>2002-04-18 09:57:46</td>\n",
       "    </tr>\n",
       "    <tr>\n",
       "      <th>50%</th>\n",
       "      <td>325.000000</td>\n",
       "      <td>2991.000000</td>\n",
       "      <td>3.500000</td>\n",
       "      <td>2007-08-02 20:31:02</td>\n",
       "    </tr>\n",
       "    <tr>\n",
       "      <th>75%</th>\n",
       "      <td>477.000000</td>\n",
       "      <td>8122.000000</td>\n",
       "      <td>4.000000</td>\n",
       "      <td>2015-07-04 07:15:44.500000</td>\n",
       "    </tr>\n",
       "    <tr>\n",
       "      <th>max</th>\n",
       "      <td>610.000000</td>\n",
       "      <td>193609.000000</td>\n",
       "      <td>5.000000</td>\n",
       "      <td>2018-09-24 14:27:30</td>\n",
       "    </tr>\n",
       "    <tr>\n",
       "      <th>std</th>\n",
       "      <td>182.618491</td>\n",
       "      <td>35530.987199</td>\n",
       "      <td>1.042529</td>\n",
       "      <td>NaN</td>\n",
       "    </tr>\n",
       "  </tbody>\n",
       "</table>\n",
       "</div>"
      ],
      "text/plain": [
       "              userId        movieId         rating  \\\n",
       "count  100836.000000  100836.000000  100836.000000   \n",
       "mean      326.127564   19435.295718       3.501557   \n",
       "min         1.000000       1.000000       0.500000   \n",
       "25%       177.000000    1199.000000       3.000000   \n",
       "50%       325.000000    2991.000000       3.500000   \n",
       "75%       477.000000    8122.000000       4.000000   \n",
       "max       610.000000  193609.000000       5.000000   \n",
       "std       182.618491   35530.987199       1.042529   \n",
       "\n",
       "                           timestamp  \n",
       "count                         100836  \n",
       "mean   2008-03-19 17:01:27.368469248  \n",
       "min              1996-03-29 18:36:55  \n",
       "25%              2002-04-18 09:57:46  \n",
       "50%              2007-08-02 20:31:02  \n",
       "75%       2015-07-04 07:15:44.500000  \n",
       "max              2018-09-24 14:27:30  \n",
       "std                              NaN  "
      ]
     },
     "execution_count": 20,
     "metadata": {},
     "output_type": "execute_result"
    }
   ],
   "source": [
    "# Saving the cleaned dataset\n",
    "ratings_df.to_csv('../data/processed/dataset1/ratings_cleaned.csv', index=False)\n",
    "# Ensuring there is no abnormal entry in the dataset\n",
    "ratings_df.describe()"
   ]
  },
  {
   "cell_type": "markdown",
   "id": "0a45930a",
   "metadata": {},
   "source": [
    "- 100,836 ratings from 610 unique users → good density for collaborative filtering.  \n",
    "- Ratings range: 0.5 to 5.0 (step of 0.5) → standard MovieLens format.  \n",
    "- Mean rating ≈ 3.5 → users tend toward positive ratings.  \n",
    "- Distribution: 25% ≤ 3.0, 50% = 3.5, 75% ≥ 4.0 → skewed toward higher ratings.  \n"
   ]
  },
  {
   "cell_type": "code",
   "execution_count": 21,
   "id": "150750e1",
   "metadata": {},
   "outputs": [
    {
     "name": "stdout",
     "output_type": "stream",
     "text": [
      "Number of users: 610\n",
      "Number of movies: 9724\n",
      "Number of ratings: 100836\n"
     ]
    }
   ],
   "source": [
    "# Display basic stat about the dataset\n",
    "print(\"Number of users:\", ratings_df['userId'].nunique())\n",
    "print(\"Number of movies:\", ratings_df['movieId'].nunique())\n",
    "print(\"Number of ratings:\", len(ratings_df))"
   ]
  },
  {
   "cell_type": "markdown",
   "id": "65ecf48c",
   "metadata": {},
   "source": [
    "- User base: 610 → relatively small compared to number of movies.  \n",
    "- Movie catalog: 9,724 → large item space vs. users.  \n",
    "- Ratings: 100,836 → average ≈ 165 ratings per user, ≈ 10 ratings per movie.  \n",
    "- Data is **sparse** (low user-to-movie coverage) → collaborative filtering may suffer, content-based methods will be important.  \n"
   ]
  },
  {
   "cell_type": "code",
   "execution_count": 22,
   "id": "00fa8006",
   "metadata": {},
   "outputs": [
    {
     "data": {
      "image/png": "[encoded data removed]",
      "text/plain": [
       "<Figure size 800x400 with 1 Axes>"
      ]
     },
     "metadata": {},
     "output_type": "display_data"
    }
   ],
   "source": [
    "# Plotting the distribution of ratings\n",
    "plt.figure(figsize=(8, 4))\n",
    "sns.histplot(ratings_df['rating'], bins=10, kde=False)\n",
    "plt.title(\"Rating Distribution\")\n",
    "plt.xlabel(\"Rating\")\n",
    "plt.ylabel(\"Count\")\n",
    "plt.grid(True)\n",
    "plt.show()"
   ]
  },
  {
   "cell_type": "code",
   "execution_count": 23,
   "id": "0bb7a3f5",
   "metadata": {},
   "outputs": [
    {
     "data": {
      "image/png": "[encoded data removed]",
      "text/plain": [
       "<Figure size 640x480 with 1 Axes>"
      ]
     },
     "metadata": {},
     "output_type": "display_data"
    }
   ],
   "source": [
    "# Plotting the distribution of ratings per user\n",
    "user_counts = ratings_df['userId'].value_counts()\n",
    "sns.histplot(user_counts, bins=50)\n",
    "plt.title(\"Ratings per User\")\n",
    "plt.xlabel(\"Number of Ratings\")\n",
    "plt.ylabel(\"User Count\")\n",
    "plt.xscale('log')\n",
    "plt.show()\n"
   ]
  },
  {
   "cell_type": "markdown",
   "id": "c73b2a04",
   "metadata": {},
   "source": [
    "Each user has rated at least 20 movies\n"
   ]
  },
  {
   "cell_type": "code",
   "execution_count": 24,
   "id": "9d07da5b",
   "metadata": {},
   "outputs": [
    {
     "data": {
      "image/png": "[encoded data removed]",
      "text/plain": [
       "<Figure size 640x480 with 1 Axes>"
      ]
     },
     "metadata": {},
     "output_type": "display_data"
    }
   ],
   "source": [
    "# Plotting the distribution of ratings per movie\n",
    "movie_counts = ratings_df['movieId'].value_counts()\n",
    "sns.histplot(movie_counts, bins=50)\n",
    "plt.title(\"Ratings per Movie\")\n",
    "plt.xlabel(\"Number of Ratings\")\n",
    "plt.ylabel(\"Movie Count\")\n",
    "plt.xscale('log')\n",
    "plt.show()\n",
    "\n"
   ]
  },
  {
   "cell_type": "code",
   "execution_count": 25,
   "id": "0f6be60f",
   "metadata": {},
   "outputs": [
    {
     "name": "stdout",
     "output_type": "stream",
     "text": [
      "Duplicates: 0\n"
     ]
    }
   ],
   "source": [
    "# Merge Ratings_df + Movies_df\n",
    "df = ratings_df.merge(movies_df, on='movieId', how='left')\n",
    "\n",
    "# Convert genres_list to tuple for duplicate check, handling NaN\n",
    "if 'genres_list' in df.columns:\n",
    "\tdf['genres_list'] = df['genres_list'].apply(lambda x: tuple(x) if isinstance(x, (list, tuple)) else ())\n",
    "\n",
    "# Check for Duplicates\n",
    "print(\"Duplicates:\", df.duplicated().sum())"
   ]
  },
  {
   "cell_type": "code",
   "execution_count": 26,
   "id": "d4a475d2",
   "metadata": {},
   "outputs": [
    {
     "name": "stdout",
     "output_type": "stream",
     "text": [
      "<class 'pandas.core.frame.DataFrame'>\n",
      "RangeIndex: 100836 entries, 0 to 100835\n",
      "Data columns (total 8 columns):\n",
      " #   Column        Non-Null Count   Dtype         \n",
      "---  ------        --------------   -----         \n",
      " 0   userId        100836 non-null  int64         \n",
      " 1   movieId       100836 non-null  int64         \n",
      " 2   rating        100836 non-null  float64       \n",
      " 3   timestamp     100836 non-null  datetime64[ns]\n",
      " 4   title         100789 non-null  object        \n",
      " 5   genres        100789 non-null  object        \n",
      " 6   release_year  100781 non-null  object        \n",
      " 7   genres_list   100836 non-null  object        \n",
      "dtypes: datetime64[ns](1), float64(1), int64(2), object(4)\n",
      "memory usage: 6.2+ MB\n"
     ]
    }
   ],
   "source": [
    "df.info()"
   ]
  },
  {
   "cell_type": "code",
   "execution_count": 27,
   "id": "11f8bf17",
   "metadata": {},
   "outputs": [],
   "source": [
    "# Convert back to list\n",
    "if 'genres_list' in df.columns:\n",
    "\tdf['genres_list'] = df['genres_list'].apply(list)"
   ]
  },
  {
   "cell_type": "code",
   "execution_count": 28,
   "id": "b4242690",
   "metadata": {},
   "outputs": [
    {
     "name": "stdout",
     "output_type": "stream",
     "text": [
      "Sparsity of ratings matrix: 0.9830\n"
     ]
    }
   ],
   "source": [
    "# Sparsity\n",
    "n_users = df['userId'].nunique()\n",
    "n_items = df['movieId'].nunique()\n",
    "sparsity = 1 - len(df) / (n_users * n_items)\n",
    "print(f\"Sparsity of ratings matrix: {sparsity:.4f}\")\n"
   ]
  },
  {
   "cell_type": "markdown",
   "id": "3445486d",
   "metadata": {},
   "source": [
    "- Ratings matrix sparsity = **98.3%** → very few user–movie pairs are rated.  \n",
    "- Confirms strong data sparsity challenge → typical of recommender datasets.  \n",
    "- Reinforces need for **content-based filtering** and hybrid methods to complement collaborative filtering.  \n"
   ]
  },
  {
   "cell_type": "code",
   "execution_count": 29,
   "id": "93caa1d5",
   "metadata": {},
   "outputs": [
    {
     "data": {
      "image/png": "[encoded data removed]",
      "text/plain": [
       "<Figure size 800x500 with 1 Axes>"
      ]
     },
     "metadata": {},
     "output_type": "display_data"
    }
   ],
   "source": [
    "# Popular Movies\n",
    "pop_movies = df.groupby('title')['rating'].count().sort_values(ascending=False).head(10)\n",
    "pop_movies.plot(kind='barh', title='Most Rated Movies', figsize=(8, 5))\n",
    "plt.gca().invert_yaxis()\n",
    "plt.show()"
   ]
  },
  {
   "cell_type": "code",
   "execution_count": 30,
   "id": "5340e8c7",
   "metadata": {},
   "outputs": [
    {
     "data": {
      "image/png": "[encoded data removed]",
      "text/plain": [
       "<Figure size 800x500 with 1 Axes>"
      ]
     },
     "metadata": {},
     "output_type": "display_data"
    }
   ],
   "source": [
    "# High Rated Movies (with filter)\n",
    "high_rated = df.groupby('title')['rating'].agg(['mean', 'count'])\n",
    "filtered = high_rated[high_rated['count'] > 50].sort_values('mean', ascending=False).head(10)\n",
    "filtered['mean'].plot(kind='barh', title='Top Rated Movies (min 50 ratings)', figsize=(8, 5))\n",
    "plt.gca().invert_yaxis()\n",
    "plt.show()"
   ]
  },
  {
   "cell_type": "markdown",
   "id": "0b88c0c2",
   "metadata": {},
   "source": [
    "- Most rated movies are well-known mainstream titles (*Forrest Gump, Shawshank Redemption, Pulp Fiction, The Matrix*), reflecting popularity bias.  \n",
    "- Top-rated (≥50 ratings) are classics (*Shawshank Redemption, The Godfather, Fight Club, Casablanca*), showing strong critical acclaim overlap.  \n",
    "- Difference between \"most rated\" vs \"top rated\" lists highlights:  \n",
    "  - **Popularity bias** → mainstream blockbusters dominate rating counts.  \n",
    "  - **Quality bias** → critically acclaimed classics achieve highest average ratings.  \n",
    "- Both patterns suggest the recommender must balance popularity with rating quality to avoid over-recommending only blockbusters.  \n"
   ]
  },
  {
   "cell_type": "code",
   "execution_count": 31,
   "id": "eb2483f1",
   "metadata": {},
   "outputs": [],
   "source": [
    "# Merge into the movie metadata\n",
    "movies = df.merge(tags_agg, on='movieId', how='left')\n",
    "\n",
    "# Replace NaNs with empty lists\n",
    "movies['tags_list'] = movies['tags_list'].apply(lambda x: x if isinstance(x, list) else [])"
   ]
  },
  {
   "cell_type": "code",
   "execution_count": 32,
   "id": "54809a01",
   "metadata": {},
   "outputs": [
    {
     "data": {
      "image/png": "[encoded data removed]",
      "text/plain": [
       "<Figure size 1200x500 with 1 Axes>"
      ]
     },
     "metadata": {},
     "output_type": "display_data"
    }
   ],
   "source": [
    "# Create decade column (convert release_year to numeric first)\n",
    "movies['release_year'] = pd.to_numeric(movies['release_year'], errors='coerce')\n",
    "movies['decade'] = (movies['release_year'] // 10 * 10).astype('Int64')\n",
    "\n",
    "# Join with ratings to see rating behavior over time\n",
    "plt.figure(figsize=(12, 5))\n",
    "sns.boxplot(data=movies, x='decade', y='rating')\n",
    "plt.title(\"Rating Distribution by Decade\")\n",
    "plt.xlabel(\"Decade\")\n",
    "plt.ylabel(\"Rating\")\n",
    "plt.xticks(rotation=45)\n",
    "plt.show()"
   ]
  },
  {
   "cell_type": "markdown",
   "id": "0333c1dd",
   "metadata": {},
   "source": [
    "- Ratings across **1980–2010** show nearly identical distribution → stable user rating behavior in modern decades.  \n",
    "- **Median rating = 3.5** for all, except **1930–1970 (median = 4)** → suggests older/classic films received higher appreciation.  \n",
    "- Outliers pattern consistent across decades → no major shifts in extreme ratings.  \n",
    "- Only well-known older movies in dataset.  \n"
   ]
  },
  {
   "cell_type": "code",
   "execution_count": 33,
   "id": "795cb879",
   "metadata": {},
   "outputs": [],
   "source": [
    "# Dropping genre column\n",
    "movies = movies.drop(columns=['genres', 'timestamp'])\n",
    "# Save the final cleaned dataset\n",
    "movies.to_csv('../data/processed/dataset1/full_movies_cleaned.csv', index=False)"
   ]
  }
 ],
 "metadata": {
  "kernelspec": {
   "display_name": "VENV (3.11.4)",
   "language": "python",
   "name": "python3"
  },
  "language_info": {
   "codemirror_mode": {
    "name": "ipython",
    "version": 3
   },
   "file_extension": ".py",
   "mimetype": "text/x-python",
   "name": "python",
   "nbconvert_exporter": "python",
   "pygments_lexer": "ipython3",
   "version": "3.11.4"
  }
 },
 "nbformat": 4,
 "nbformat_minor": 5
}
