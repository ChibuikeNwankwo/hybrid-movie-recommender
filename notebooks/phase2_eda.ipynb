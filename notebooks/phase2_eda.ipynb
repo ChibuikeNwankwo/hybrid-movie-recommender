{
 "cells": [
  {
   "cell_type": "markdown",
   "id": "fa51ad60",
   "metadata": {},
   "source": [
    "# Phase 2: Exploratory Data Analysis (Dataset 2)\n",
    "\n",
    "---\n",
    "## Table of Contents\n",
    "1. [Introduction](#1-introduction)\n",
    "2. [Data Loading](#2-loading-libraries-and-dataset)\n",
    "3. [Data Exploration](#3-data-exploration)\n",
    "\n",
    "---\n",
    "\n",
    "## 1. Introduction\n",
    "In this notebook, we perform an exploratory data analysis (EDA) on **Dataset 2**.  \n",
    "Goals of this notebook:\n",
    "- Understand the structure of the dataset.  \n",
    "- Check for missing values and inconsistencies.  \n",
    "- Perform exploratory statistics and visualizations.  \n",
    "- Extract insights that will guide preprocessing and modeling.  \n"
   ]
  },
  {
   "cell_type": "markdown",
   "id": "feb81008",
   "metadata": {},
   "source": [
    "## 2. Loading Libraries and Dataset"
   ]
  },
  {
   "cell_type": "code",
   "execution_count": 6,
   "id": "a22775e0",
   "metadata": {},
   "outputs": [],
   "source": [
    "# Import necessary libraries\n",
    "import pandas as pd\n",
    "import ast\n"
   ]
  },
  {
   "cell_type": "code",
   "execution_count": 7,
   "id": "966c5c42",
   "metadata": {},
   "outputs": [],
   "source": [
    "# Loading the datasets\n",
    "credits_2 = pd.read_csv('../data/raw/dataset2/tmdb_5000_credits.csv')\n",
    "movies_df_2 = pd.read_csv('../data/raw/dataset2/tmdb_5000_movies.csv')"
   ]
  },
  {
   "cell_type": "markdown",
   "id": "2c1f89a3",
   "metadata": {},
   "source": [
    "## 3. Data Exploration"
   ]
  },
  {
   "cell_type": "code",
   "execution_count": 8,
   "id": "2b25793f",
   "metadata": {},
   "outputs": [
    {
     "name": "stdout",
     "output_type": "stream",
     "text": [
      "Movies shape: (4803, 20)\n",
      "Credits shape: (4803, 4)\n",
      "Merged shape: (4803, 24)\n"
     ]
    },
    {
     "data": {
      "text/html": [
       "<div>\n",
       "<style scoped>\n",
       "    .dataframe tbody tr th:only-of-type {\n",
       "        vertical-align: middle;\n",
       "    }\n",
       "\n",
       "    .dataframe tbody tr th {\n",
       "        vertical-align: top;\n",
       "    }\n",
       "\n",
       "    .dataframe thead th {\n",
       "        text-align: right;\n",
       "    }\n",
       "</style>\n",
       "<table border=\"1\" class=\"dataframe\">\n",
       "  <thead>\n",
       "    <tr style=\"text-align: right;\">\n",
       "      <th></th>\n",
       "      <th>budget</th>\n",
       "      <th>genres</th>\n",
       "      <th>homepage</th>\n",
       "      <th>id</th>\n",
       "      <th>keywords</th>\n",
       "      <th>original_language</th>\n",
       "      <th>original_title</th>\n",
       "      <th>overview</th>\n",
       "      <th>popularity</th>\n",
       "      <th>production_companies</th>\n",
       "      <th>...</th>\n",
       "      <th>spoken_languages</th>\n",
       "      <th>status</th>\n",
       "      <th>tagline</th>\n",
       "      <th>title_x</th>\n",
       "      <th>vote_average</th>\n",
       "      <th>vote_count</th>\n",
       "      <th>movie_id</th>\n",
       "      <th>title_y</th>\n",
       "      <th>cast</th>\n",
       "      <th>crew</th>\n",
       "    </tr>\n",
       "  </thead>\n",
       "  <tbody>\n",
       "    <tr>\n",
       "      <th>0</th>\n",
       "      <td>237000000</td>\n",
       "      <td>[{\"id\": 28, \"name\": \"Action\"}, {\"id\": 12, \"nam...</td>\n",
       "      <td>http://www.avatarmovie.com/</td>\n",
       "      <td>19995</td>\n",
       "      <td>[{\"id\": 1463, \"name\": \"culture clash\"}, {\"id\":...</td>\n",
       "      <td>en</td>\n",
       "      <td>Avatar</td>\n",
       "      <td>In the 22nd century, a paraplegic Marine is di...</td>\n",
       "      <td>150.437577</td>\n",
       "      <td>[{\"name\": \"Ingenious Film Partners\", \"id\": 289...</td>\n",
       "      <td>...</td>\n",
       "      <td>[{\"iso_639_1\": \"en\", \"name\": \"English\"}, {\"iso...</td>\n",
       "      <td>Released</td>\n",
       "      <td>Enter the World of Pandora.</td>\n",
       "      <td>Avatar</td>\n",
       "      <td>7.2</td>\n",
       "      <td>11800</td>\n",
       "      <td>19995</td>\n",
       "      <td>Avatar</td>\n",
       "      <td>[{\"cast_id\": 242, \"character\": \"Jake Sully\", \"...</td>\n",
       "      <td>[{\"credit_id\": \"52fe48009251416c750aca23\", \"de...</td>\n",
       "    </tr>\n",
       "  </tbody>\n",
       "</table>\n",
       "<p>1 rows × 24 columns</p>\n",
       "</div>"
      ],
      "text/plain": [
       "      budget                                             genres  \\\n",
       "0  237000000  [{\"id\": 28, \"name\": \"Action\"}, {\"id\": 12, \"nam...   \n",
       "\n",
       "                      homepage     id  \\\n",
       "0  http://www.avatarmovie.com/  19995   \n",
       "\n",
       "                                            keywords original_language  \\\n",
       "0  [{\"id\": 1463, \"name\": \"culture clash\"}, {\"id\":...                en   \n",
       "\n",
       "  original_title                                           overview  \\\n",
       "0         Avatar  In the 22nd century, a paraplegic Marine is di...   \n",
       "\n",
       "   popularity                               production_companies  ...  \\\n",
       "0  150.437577  [{\"name\": \"Ingenious Film Partners\", \"id\": 289...  ...   \n",
       "\n",
       "                                    spoken_languages    status  \\\n",
       "0  [{\"iso_639_1\": \"en\", \"name\": \"English\"}, {\"iso...  Released   \n",
       "\n",
       "                       tagline  title_x vote_average vote_count movie_id  \\\n",
       "0  Enter the World of Pandora.   Avatar          7.2      11800    19995   \n",
       "\n",
       "  title_y                                               cast  \\\n",
       "0  Avatar  [{\"cast_id\": 242, \"character\": \"Jake Sully\", \"...   \n",
       "\n",
       "                                                crew  \n",
       "0  [{\"credit_id\": \"52fe48009251416c750aca23\", \"de...  \n",
       "\n",
       "[1 rows x 24 columns]"
      ]
     },
     "execution_count": 8,
     "metadata": {},
     "output_type": "execute_result"
    }
   ],
   "source": [
    "# Merge using common ID\n",
    "df = movies_df_2.merge(credits_2, left_on='id', right_on='movie_id', how='left')\n",
    "\n",
    "# Preview\n",
    "print(f\"Movies shape: {movies_df_2.shape}\")\n",
    "print(f\"Credits shape: {credits_2.shape}\")\n",
    "print(f\"Merged shape: {df.shape}\")\n",
    "df.head(1)"
   ]
  },
  {
   "cell_type": "markdown",
   "id": "04a9377a",
   "metadata": {},
   "source": [
    "- Merged dataset has **4803 movies × 24 columns** → duplicates in `title_x` vs. `title_y`, `id` vs. `movie_id`.  \n",
    "- **Cleaning steps to apply**:  \n",
    "  1. **Drop duplicates**: keep one of `title_x`/`title_y`, and one of `id`/`movie_id`.  \n",
    "  2. **Remove irrelevant columns** for recommendation: `homepage`, `status`, `tagline` (sparse or uninformative).  \n",
    "  3. **Parse JSON-like fields** (`genres`, `keywords`, `cast`, `crew`, `production_companies`, `spoken_languages`) into clean lists of strings.  \n",
    "  4. **Check `budget` and `revenue`**: many zero values → decide whether to keep, log-transform, or drop.  \n",
    "  5. **Normalize text columns** (`overview`, `title`) → lowercase, remove punctuation/stopwords.  \n",
    "  6. **Handle missing values**: drop rows with excessive nulls, fill with placeholders where appropriate.  \n",
    "  7. Ensure **numeric columns** (`vote_average`, `vote_count`, `popularity`) are cast to proper types.  \n"
   ]
  },
  {
   "cell_type": "code",
   "execution_count": 9,
   "id": "82cdd115",
   "metadata": {},
   "outputs": [],
   "source": [
    "df.drop(columns=['budget', 'homepage', 'original_language','original_title', 'production_companies', \n",
    "                     'production_countries', 'revenue', 'runtime','spoken_languages', 'status', 'title_y','movie_id'], inplace=True)"
   ]
  },
  {
   "cell_type": "code",
   "execution_count": 10,
   "id": "75210d96",
   "metadata": {},
   "outputs": [],
   "source": [
    "# functions to parse jsons\n",
    "def parse_names(obj_str, key='name'):\n",
    "    try:\n",
    "        data = ast.literal_eval(obj_str)\n",
    "        return [d[key] for d in data if key in d]\n",
    "    except Exception:\n",
    "        return []\n",
    "\n",
    "def get_director(crew_str):\n",
    "    try:\n",
    "        crew_list = ast.literal_eval(crew_str)\n",
    "        for member in crew_list:\n",
    "            if member.get('job') == 'Director':\n",
    "                return member.get('name')\n",
    "        return None\n",
    "    except Exception:\n",
    "        return None\n"
   ]
  },
  {
   "cell_type": "code",
   "execution_count": 11,
   "id": "7d4cc815",
   "metadata": {},
   "outputs": [],
   "source": [
    "# apply the functions then drop the old columns\n",
    "df['genre_names'] = df['genres'].apply(parse_names)\n",
    "df['keyword_names'] = df['keywords'].apply(parse_names)\n",
    "df['cast_names'] = df['cast'].apply(parse_names)\n",
    "df['director'] = df['crew'].apply(get_director)\n",
    "\n",
    "df['release_year'] = df['release_date'].astype(str).str[:4]\n",
    "\n",
    "df.drop(columns=['genres','cast','crew','keywords','release_date'],inplace=True)"
   ]
  },
  {
   "cell_type": "code",
   "execution_count": 12,
   "id": "b84a7f3c",
   "metadata": {},
   "outputs": [
    {
     "data": {
      "text/html": [
       "<div>\n",
       "<style scoped>\n",
       "    .dataframe tbody tr th:only-of-type {\n",
       "        vertical-align: middle;\n",
       "    }\n",
       "\n",
       "    .dataframe tbody tr th {\n",
       "        vertical-align: top;\n",
       "    }\n",
       "\n",
       "    .dataframe thead th {\n",
       "        text-align: right;\n",
       "    }\n",
       "</style>\n",
       "<table border=\"1\" class=\"dataframe\">\n",
       "  <thead>\n",
       "    <tr style=\"text-align: right;\">\n",
       "      <th></th>\n",
       "      <th>id</th>\n",
       "      <th>overview</th>\n",
       "      <th>popularity</th>\n",
       "      <th>tagline</th>\n",
       "      <th>title_x</th>\n",
       "      <th>vote_average</th>\n",
       "      <th>vote_count</th>\n",
       "      <th>genre_names</th>\n",
       "      <th>keyword_names</th>\n",
       "      <th>cast_names</th>\n",
       "      <th>director</th>\n",
       "      <th>release_year</th>\n",
       "    </tr>\n",
       "  </thead>\n",
       "  <tbody>\n",
       "    <tr>\n",
       "      <th>0</th>\n",
       "      <td>19995</td>\n",
       "      <td>In the 22nd century, a paraplegic Marine is di...</td>\n",
       "      <td>150.437577</td>\n",
       "      <td>Enter the World of Pandora.</td>\n",
       "      <td>Avatar</td>\n",
       "      <td>7.2</td>\n",
       "      <td>11800</td>\n",
       "      <td>[Action, Adventure, Fantasy, Science Fiction]</td>\n",
       "      <td>[culture clash, future, space war, space colon...</td>\n",
       "      <td>[Sam Worthington, Zoe Saldana, Sigourney Weave...</td>\n",
       "      <td>James Cameron</td>\n",
       "      <td>2009</td>\n",
       "    </tr>\n",
       "  </tbody>\n",
       "</table>\n",
       "</div>"
      ],
      "text/plain": [
       "      id                                           overview  popularity  \\\n",
       "0  19995  In the 22nd century, a paraplegic Marine is di...  150.437577   \n",
       "\n",
       "                       tagline title_x  vote_average  vote_count  \\\n",
       "0  Enter the World of Pandora.  Avatar           7.2       11800   \n",
       "\n",
       "                                     genre_names  \\\n",
       "0  [Action, Adventure, Fantasy, Science Fiction]   \n",
       "\n",
       "                                       keyword_names  \\\n",
       "0  [culture clash, future, space war, space colon...   \n",
       "\n",
       "                                          cast_names       director  \\\n",
       "0  [Sam Worthington, Zoe Saldana, Sigourney Weave...  James Cameron   \n",
       "\n",
       "  release_year  \n",
       "0         2009  "
      ]
     },
     "execution_count": 12,
     "metadata": {},
     "output_type": "execute_result"
    }
   ],
   "source": [
    "df.head(1)"
   ]
  },
  {
   "cell_type": "code",
   "execution_count": 14,
   "id": "a046d1af",
   "metadata": {},
   "outputs": [],
   "source": [
    "df['overview'] = df['overview'].fillna('')\n",
    "df_cleaned = df.rename(columns={'title_x': 'title', 'keyword_names':'keywords', 'genre_names':'genres'})\n",
    "df_cleaned.to_csv('../data/processed/dataset2/cleaned_movies2.csv', index=False)\n"
   ]
  },
  {
   "cell_type": "code",
   "execution_count": 15,
   "id": "db6f25a9",
   "metadata": {},
   "outputs": [
    {
     "name": "stdout",
     "output_type": "stream",
     "text": [
      "<class 'pandas.core.frame.DataFrame'>\n",
      "RangeIndex: 4803 entries, 0 to 4802\n",
      "Data columns (total 12 columns):\n",
      " #   Column        Non-Null Count  Dtype  \n",
      "---  ------        --------------  -----  \n",
      " 0   id            4803 non-null   int64  \n",
      " 1   overview      4803 non-null   object \n",
      " 2   popularity    4803 non-null   float64\n",
      " 3   tagline       3959 non-null   object \n",
      " 4   title         4803 non-null   object \n",
      " 5   vote_average  4803 non-null   float64\n",
      " 6   vote_count    4803 non-null   int64  \n",
      " 7   genres        4803 non-null   object \n",
      " 8   keywords      4803 non-null   object \n",
      " 9   cast_names    4803 non-null   object \n",
      " 10  director      4773 non-null   object \n",
      " 11  release_year  4803 non-null   object \n",
      "dtypes: float64(2), int64(2), object(8)\n",
      "memory usage: 450.4+ KB\n"
     ]
    }
   ],
   "source": [
    "df_cleaned.info()"
   ]
  },
  {
   "cell_type": "markdown",
   "id": "090414ff",
   "metadata": {},
   "source": [
    "- Dataset: 4803 movies × 12 columns.  \n",
    "- Missing: over 17% of the taglines are missing while less than 1% of movies have a missing director.\n",
    "- JSON-like cols parsed → string lists (genres, keywords, cast).  \n"
   ]
  },
  {
   "cell_type": "markdown",
   "id": "3178fb71",
   "metadata": {},
   "source": [
    "All missing values will be dealt with in the preprocessing stage. No visualization was done here since the main focus was to clean the data."
   ]
  }
 ],
 "metadata": {
  "kernelspec": {
   "display_name": "VENV (3.11.4)",
   "language": "python",
   "name": "python3"
  },
  "language_info": {
   "codemirror_mode": {
    "name": "ipython",
    "version": 3
   },
   "file_extension": ".py",
   "mimetype": "text/x-python",
   "name": "python",
   "nbconvert_exporter": "python",
   "pygments_lexer": "ipython3",
   "version": "3.11.4"
  }
 },
 "nbformat": 4,
 "nbformat_minor": 5
}
