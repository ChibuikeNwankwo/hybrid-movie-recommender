{
 "cells": [
  {
   "cell_type": "markdown",
   "id": "034ec369",
   "metadata": {},
   "source": [
    "# Phase 3: Intersection Analysis (Dataset 1 & 2)\n",
    "\n",
    "---\n",
    "\n",
    "## 1. Introduction\n",
    "In this notebook, we will focus on joining both  **Dataset 1 & 2**.  \n",
    "Goals of this notebook:\n",
    "- Understand the structure of the dataset.  \n",
    "- Perform exploratory statistics.  \n",
    "- Extract insights that will guide preprocessing and modeling.  \n",
    "- *Show bridge between Dataset 1 and 2*"
   ]
  },
  {
   "cell_type": "code",
   "execution_count": 30,
   "id": "e94e4615",
   "metadata": {},
   "outputs": [],
   "source": [
    "import pandas as pd\n"
   ]
  },
  {
   "cell_type": "code",
   "execution_count": 31,
   "id": "e28c04e2",
   "metadata": {},
   "outputs": [],
   "source": [
    "# Loading the datasets\n",
    "links_df = pd.read_csv('../data/raw/dataset1/links.csv')\n",
    "movies_df_2 = pd.read_csv('../data/raw/dataset2/tmdb_5000_movies.csv')\n",
    "movies = pd.read_csv('../data/processed/dataset1/full_movies_cleaned.csv')"
   ]
  },
  {
   "cell_type": "code",
   "execution_count": 32,
   "id": "2e561197",
   "metadata": {},
   "outputs": [],
   "source": [
    "# dropping null ids\n",
    "links_df = links_df.dropna()\n",
    "# converting to integer\n",
    "links_df['tmdbId'] = links_df['tmdbId'].astype('Int64')\n",
    "\n",
    "# merging the tmdb ids in dataset 1 with its title\n",
    "subset1 = links_df[['movieId', 'tmdbId']]\n",
    "uniq = movies.drop_duplicates(subset='movieId')\n",
    "subset2 = uniq[['movieId', 'title']]\n",
    "merge1 = pd.merge(subset1,subset2,on='movieId', how='left')\n",
    "\n",
    "# merging with dataset 2\n",
    "subset_c = movies_df_2[['id', 'title']]\n",
    "merged = pd.merge(merge1,subset_c,left_on='tmdbId',right_on='id',how='left', suffixes = ('_links','_tmdb'))\n"
   ]
  },
  {
   "cell_type": "code",
   "execution_count": 33,
   "id": "ce5eaeba",
   "metadata": {},
   "outputs": [],
   "source": [
    "# dropping null values\n",
    "merged = merged.dropna()\n",
    "# dropping redundant columns\n",
    "merged = merged.drop(columns=['title_tmdb','id'])\n",
    "merged=merged.rename(columns={\"title_links\":'title'})\n",
    "# converting to csv\n",
    "merged.to_csv('../data/processed/dataset2/intersection.csv')"
   ]
  },
  {
   "cell_type": "code",
   "execution_count": 34,
   "id": "ef1f5746",
   "metadata": {},
   "outputs": [
    {
     "name": "stdout",
     "output_type": "stream",
     "text": [
      "<class 'pandas.core.frame.DataFrame'>\n",
      "Index: 3534 entries, 0 to 9370\n",
      "Data columns (total 3 columns):\n",
      " #   Column   Non-Null Count  Dtype \n",
      "---  ------   --------------  ----- \n",
      " 0   movieId  3534 non-null   int64 \n",
      " 1   tmdbId   3534 non-null   Int64 \n",
      " 2   title    3534 non-null   object\n",
      "dtypes: Int64(1), int64(1), object(1)\n",
      "memory usage: 113.9+ KB\n"
     ]
    }
   ],
   "source": [
    "merged.info()"
   ]
  },
  {
   "cell_type": "markdown",
   "id": "0356969f",
   "metadata": {},
   "source": [
    "- Intersection size: **3,534 movies** (out of 9,370 in Dataset 1 and 4,803 in Dataset 2).  \n",
    "- Columns: `movieId` (Dataset 1), `tmdbId` (Dataset 2), `title_links` (mapped titles).  \n",
    "- Ensures consistent ID mapping across datasets → critical for transfer learning & hybrid recommender.  \n",
    "- Coverage:  \n",
    "  - ~37.7% of Dataset 1 movies overlap.  \n",
    "  - ~73.6% of Dataset 2 movies overlap.  \n",
    "- Implication: Dataset 2 is largely a subset of Dataset 1 → useful for bridging ratings (Dataset 1) with rich metadata (Dataset 2).  \n"
   ]
  }
 ],
 "metadata": {
  "kernelspec": {
   "display_name": "VENV (3.11.4)",
   "language": "python",
   "name": "python3"
  },
  "language_info": {
   "codemirror_mode": {
    "name": "ipython",
    "version": 3
   },
   "file_extension": ".py",
   "mimetype": "text/x-python",
   "name": "python",
   "nbconvert_exporter": "python",
   "pygments_lexer": "ipython3",
   "version": "3.11.4"
  }
 },
 "nbformat": 4,
 "nbformat_minor": 5
}
